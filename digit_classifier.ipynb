{
  "nbformat": 4,
  "nbformat_minor": 0,
  "metadata": {
    "colab": {
      "name": "digit_classifier.ipynb",
      "provenance": [],
      "toc_visible": true
    },
    "kernelspec": {
      "name": "python3",
      "display_name": "Python 3"
    }
  },
  "cells": [
    {
      "cell_type": "code",
      "metadata": {
        "id": "53dnYwcbe26q"
      },
      "source": [
        "from sklearn.datasets import fetch_openml\n",
        "from sklearn.metrics import accuracy_score\n",
        "from sklearn.linear_model import SGDClassifier"
      ],
      "execution_count": null,
      "outputs": []
    },
    {
      "cell_type": "code",
      "metadata": {
        "id": "ARA2TDpPe9r8"
      },
      "source": [
        "sgd=SGDClassifier()\n",
        "mnist=fetch_openml('mnist_784')\n",
        "\n",
        "x,y=mnist['data'],mnist['target']\n",
        "\n",
        "x_train,x_test=x[:60000],x[60000:]\n",
        "y_train,y_test=y[:60000],y[60000:]"
      ],
      "execution_count": null,
      "outputs": []
    },
    {
      "cell_type": "code",
      "metadata": {
        "id": "dMx5KomkfJgY",
        "colab": {
          "base_uri": "https://localhost:8080/"
        },
        "outputId": "351fc188-4d02-431c-d910-94b5a409a2f4"
      },
      "source": [
        "def binary_classifier_digitx(x):\n",
        "    print('for digit ',x)\n",
        "    y_train_x=(y_train==x)\n",
        "    y_test_x=(y_test==x)\n",
        "\n",
        "    sgd.fit(x_train,y_train_x)\n",
        "\n",
        "    y_pred=sgd.predict(x_test)\n",
        "    print(sum(y_pred==y_test_x)/10000)\n",
        "\n",
        "binary_classifier_digitx('4')"
      ],
      "execution_count": null,
      "outputs": [
        {
          "output_type": "stream",
          "text": [
            "for digit  4\n",
            "0.9751\n"
          ],
          "name": "stdout"
        }
      ]
    },
    {
      "cell_type": "code",
      "metadata": {
        "colab": {
          "base_uri": "https://localhost:8080/"
        },
        "id": "xmUnomE4faI7",
        "outputId": "d4b41605-af3b-4d1d-c057-8a56d0348090"
      },
      "source": [
        "sgd.fit(x_train,y_train)\n",
        "y_pred = sgd.predict(x_test)\n",
        "print(y_pred)\n",
        "print(y_test)\n",
        "print(accuracy_score(y_test,y_pred))\n"
      ],
      "execution_count": null,
      "outputs": [
        {
          "output_type": "stream",
          "text": [
            "['7' '2' '1' ... '8' '5' '6']\n",
            "['7' '2' '1' ... '4' '5' '6']\n",
            "0.874\n"
          ],
          "name": "stdout"
        }
      ]
    }
  ]
}